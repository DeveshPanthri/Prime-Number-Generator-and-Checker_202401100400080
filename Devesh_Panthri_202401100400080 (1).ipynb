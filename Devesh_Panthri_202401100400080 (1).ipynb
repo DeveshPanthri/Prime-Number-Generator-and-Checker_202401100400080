{
  "nbformat": 4,
  "nbformat_minor": 0,
  "metadata": {
    "colab": {
      "provenance": []
    },
    "kernelspec": {
      "name": "python3",
      "display_name": "Python 3"
    },
    "language_info": {
      "name": "python"
    }
  },
  "cells": [
    {
      "cell_type": "code",
      "execution_count": 9,
      "metadata": {
        "colab": {
          "base_uri": "https://localhost:8080/"
        },
        "id": "y4USPvfqSNlW",
        "outputId": "6bbfbb3a-e6e6-498c-c3fb-1b68099bf4a5"
      },
      "outputs": [
        {
          "output_type": "stream",
          "name": "stdout",
          "text": [
            "Enter the lower limit of the range:2\n",
            "Enter the upper limit of the range:1\n",
            "\n",
            "Enter the correct range\n",
            "\n",
            "\n",
            "Enter the lower limit of the range:2\n",
            "Enter the upper limit of the range:50\n",
            "\n",
            "The Prime Number in the given range are [2, 3, 5, 7, 11, 13, 17, 19, 23, 29, 31, 37, 41, 43, 47]\n",
            "\n",
            "The Prime Number in the given range are []\n"
          ]
        }
      ],
      "source": [
        "import sympy # Importing the sympy library to use its isprime() function\n",
        "def prime_number():\n",
        "    # Taking user input for the lower and upper limit of the range\n",
        "    a=int(input(\"Enter the lower limit of the range:\"))\n",
        "    b=int(input(\"Enter the upper limit of the range:\"))\n",
        "\n",
        "    prime_list=[] # Initializing an empty list to store prime numbers\n",
        "\n",
        "    if a>b:\n",
        "      print(\"\\nEnter the correct range\")\n",
        "      print(\"\\n\")\n",
        "      prime_number()#fuction Recurrstion\n",
        "    else:\n",
        "     for i in range(a,b+1):\n",
        "      if sympy.isprime(i):\n",
        "        prime_list.append(i)\n",
        "    print(\"\\nThe Prime Number in the given range are\",prime_list)\n",
        "\n",
        "prime_number()   # Calling the function to execute\n",
        "\n",
        "\n",
        "\n",
        "\n"
      ]
    }
  ]
}